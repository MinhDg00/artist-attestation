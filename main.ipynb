{
 "cells": [
  {
   "cell_type": "markdown",
   "id": "c767cd66-35c0-4778-a0d3-da430f265b83",
   "metadata": {},
   "source": [
    "# PROJECT - ARTIST ATTESTATION"
   ]
  },
  {
   "cell_type": "markdown",
   "id": "47fca379-77c3-419d-9372-a38af65beb88",
   "metadata": {
    "tags": []
   },
   "source": [
    "## 1. Set up and Mounting"
   ]
  },
  {
   "cell_type": "markdown",
   "id": "14dcfdcc-e1cd-4e12-99ed-7bafd3b61dfc",
   "metadata": {
    "tags": []
   },
   "source": [
    "#### 1.1 Mounting"
   ]
  },
  {
   "cell_type": "code",
   "execution_count": null,
   "id": "6bcd94b6-c15c-45f2-97f7-6e01eaafa655",
   "metadata": {
    "tags": []
   },
   "outputs": [],
   "source": [
    "# Quick check on storage. |test| = 23819, # |train| = 79435\n",
    "!gsutil ls gs://cs6384-mlbucket/\n",
    "!gsutil du gs://cs6384-mlbucket/test | wc -l\n",
    "!gsutil du gs://cs6384-mlbucket/train | wc -l\n",
    "!gsutil du gs://cs6384-mlbucket/info | wc -l"
   ]
  },
  {
   "cell_type": "code",
   "execution_count": 2,
   "id": "a16baf2f-2946-4ae7-9ff8-49fd57de82e2",
   "metadata": {
    "tags": []
   },
   "outputs": [
    {
     "name": "stdout",
     "output_type": "stream",
     "text": [
      "fusermount: failed to unmount /home/jupyter/MOUNT_DIRECTORY: Invalid argument\n",
      "2022/05/11 22:16:42.692073 Start gcsfuse/0.41.1 (Go version go1.17.6) for app \"\" using mount point: /home/jupyter/MOUNT_DIRECTORY\n",
      "2022/05/11 22:16:42.705744 Opening GCS connection...\n",
      "2022/05/11 22:16:42.828439 Mounting file system \"cs6384-mlbucket\"...\n",
      "2022/05/11 22:16:42.866947 File system has been successfully mounted.\n",
      "asus  info  oneplus  sample_result  test  test_upload  train\n"
     ]
    }
   ],
   "source": [
    "#### Unmount and remove dir if needed\n",
    "# !sudo fusermount -u /home/jupyter/MOUNT_DIRECTORY\n",
    "# !rm -r /home/jupyter/MOUNT_DIRECTORY\n",
    "!mkdir /home/jupyter/MOUNT_DIRECTORY\n",
    "!gcsfuse --implicit-dirs cs6384-mlbucket /home/jupyter/MOUNT_DIRECTORY\n",
    "!ls /home/jupyter/MOUNT_DIRECTORY"
   ]
  },
  {
   "cell_type": "markdown",
   "id": "08ea5655-1424-421f-8cfd-df9f810b96e7",
   "metadata": {
    "tags": []
   },
   "source": [
    "#### 1.2. Setup Library and Variables"
   ]
  },
  {
   "cell_type": "code",
   "execution_count": 5,
   "id": "1c7b1a86-c7d7-44e1-b1e8-401285084b0b",
   "metadata": {
    "collapsed": true,
    "jupyter": {
     "outputs_hidden": true
    },
    "tags": []
   },
   "outputs": [
    {
     "name": "stdout",
     "output_type": "stream",
     "text": [
      "Requirement already satisfied: opencv-python in /opt/conda/lib/python3.7/site-packages (4.5.5.64)\n",
      "Requirement already satisfied: numpy>=1.14.5 in /opt/conda/lib/python3.7/site-packages (from opencv-python) (1.21.5)\n",
      "Requirement already satisfied: torch in /opt/conda/lib/python3.7/site-packages (1.11.0)\n",
      "Requirement already satisfied: torchvision in /opt/conda/lib/python3.7/site-packages (0.12.0)\n",
      "Requirement already satisfied: torchaudio in /opt/conda/lib/python3.7/site-packages (0.11.0)\n",
      "Requirement already satisfied: torchsummary in /opt/conda/lib/python3.7/site-packages (1.5.1)\n",
      "Requirement already satisfied: typing-extensions in /opt/conda/lib/python3.7/site-packages (from torch) (4.1.1)\n",
      "Requirement already satisfied: requests in /opt/conda/lib/python3.7/site-packages (from torchvision) (2.27.1)\n",
      "Requirement already satisfied: numpy in /opt/conda/lib/python3.7/site-packages (from torchvision) (1.21.5)\n",
      "Requirement already satisfied: pillow!=8.3.*,>=5.3.0 in /opt/conda/lib/python3.7/site-packages (from torchvision) (9.0.1)\n",
      "Requirement already satisfied: idna<4,>=2.5 in /opt/conda/lib/python3.7/site-packages (from requests->torchvision) (3.3)\n",
      "Requirement already satisfied: charset-normalizer~=2.0.0 in /opt/conda/lib/python3.7/site-packages (from requests->torchvision) (2.0.12)\n",
      "Requirement already satisfied: urllib3<1.27,>=1.21.1 in /opt/conda/lib/python3.7/site-packages (from requests->torchvision) (1.26.8)\n",
      "Requirement already satisfied: certifi>=2017.4.17 in /opt/conda/lib/python3.7/site-packages (from requests->torchvision) (2021.10.8)\n"
     ]
    }
   ],
   "source": [
    "!pip install opencv-python\n",
    "!pip install torch torchvision torchaudio torchsummary"
   ]
  },
  {
   "cell_type": "code",
   "execution_count": 7,
   "id": "22a302a0-fcd5-419d-9161-cbd9dbf60089",
   "metadata": {
    "tags": []
   },
   "outputs": [],
   "source": [
    "# Load Library\n",
    "import pandas as pd\n",
    "import glob\n",
    "import random\n",
    "import numpy as np\n",
    "import seaborn as sns\n",
    "import matplotlib.pyplot as plt\n",
    "import cv2\n",
    "import os\n",
    "import math\n",
    "import torch\n",
    "from torch.utils.data import Dataset, DataLoader\n",
    "import torch.nn as nn\n",
    "import torch.nn.functional as F\n",
    "from torchsummary import summary\n",
    "import torch.optim as optim\n",
    "import torchvision.transforms as T\n",
    "import torchvision.models as models\n",
    "from tqdm import tqdm\n",
    "from sklearn.metrics import precision_recall_fscore_support\n",
    "from torch.multiprocessing import Pool, Process, set_start_method\n",
    "from sklearn.metrics import confusion_matrix, ConfusionMatrixDisplay\n",
    "from collections import defaultdict\n",
    "import warnings\n",
    "\n",
    "# custom script \n",
    "from processor import *\n",
    "from helper_func import *\n",
    "from cmodels import *\n",
    "from train import *\n",
    "from evals import *\n",
    "\n",
    "warnings.filterwarnings('ignore')"
   ]
  },
  {
   "cell_type": "code",
   "execution_count": 16,
   "id": "134efddb-eb6e-414f-9349-a20752a94058",
   "metadata": {
    "tags": []
   },
   "outputs": [
    {
     "name": "stdout",
     "output_type": "stream",
     "text": [
      "True\n"
     ]
    }
   ],
   "source": [
    "# Set up variables \n",
    "METADATA_PATH = '/home/jupyter/MOUNT_DIRECTORY/info'\n",
    "TRAIN_PATH = '/home/jupyter/MOUNT_DIRECTORY/train'\n",
    "TEST_PATH = '/home/jupyter/MOUNT_DIRECTORY/test'\n",
    "ASUS_TEST_PATH = '/home/jupyter/MOUNT_DIRECTORY/asus'\n",
    "ONEPLUS_TEST_PATH = '/home/jupyter/MOUNT_DIRECTORY/oneplus'\n",
    "MODELS_PATH = '/home/jupyter/artist-attestation/models'\n",
    "PLOT_PATH = '/home/jupyter/artist-attestation/plot'\n",
    "OUTPUT_PATH = '/home/jupyter/artist-attestation/output'\n",
    "\n",
    "# Set up cuda\n",
    "device = torch.device('cuda' if torch.cuda.is_available() else 'cpu')\n",
    "print(torch.cuda.is_available())"
   ]
  },
  {
   "cell_type": "code",
   "execution_count": 17,
   "id": "656f7669-8479-469a-8d14-bab5394bcd8c",
   "metadata": {
    "tags": []
   },
   "outputs": [],
   "source": [
    "class BaselineConvnet(nn.Module):\n",
    "    def __init__(self):\n",
    "        super().__init__()\n",
    "        \n",
    "        self.conv1 = nn.Conv2d(3, 32, 3, stride = 2, padding = 1)\n",
    "        nn.init.zeros_(self.conv1.bias) \n",
    "        nn.init.normal_(self.conv1.weight, mean = 0, std = (math.sqrt(2/(32*3*3))))\n",
    "        \n",
    "        self.pool = nn.MaxPool2d(2)\n",
    "        self.batch_norm2d = nn.BatchNorm2d(32)\n",
    "        \n",
    "        self.conv2 = nn.Conv2d(32, 32, 3, stride = 2, padding = 1)\n",
    "        nn.init.zeros_(self.conv2.bias) \n",
    "        nn.init.normal_(self.conv2.weight, mean = 0, std = (math.sqrt(2/(32*3*3))))\n",
    "        \n",
    "        self.batch_norm1d = nn.BatchNorm1d(228)\n",
    "        self.fc1 = nn.Linear(6272, 228)\n",
    "        self.fc2 = nn.Linear(228, 57)\n",
    "\n",
    "    def forward(self, x):\n",
    "        \n",
    "        # Convolution stack 1\n",
    "        x = self.conv1(x)\n",
    "        x = self.batch_norm2d(x)\n",
    "        x = F.relu(x)\n",
    "        x = self.pool(x)\n",
    "        \n",
    "        # Convolution stack 2\n",
    "        x = self.conv2(x)\n",
    "        x = self.batch_norm2d(x)\n",
    "        x = F.relu(x)\n",
    "        x = self.pool(x)\n",
    "        \n",
    "        # Flatten and FC layers\n",
    "        x = torch.flatten(x, 1) # flatten all dimensions except batch\n",
    "        x = self.fc1(x)\n",
    "        x = self.batch_norm1d(x)\n",
    "        x = F.relu(x)\n",
    "        x = self.fc2(x)\n",
    "        \n",
    "        return x\n",
    "\n",
    "# Loads desired pre-built model\n",
    "def loadPretrainedModels(name,num_classes,pretrained = True, freeze_base = False):\n",
    "    \n",
    "    if name == 'resnet-18':\n",
    "        model = models.resnet18(pretrained)\n",
    "        in_feat = model.fc.in_features\n",
    "        model.fc = nn.Linear(in_feat,num_classes)\n",
    "        if freeze_base == True:\n",
    "            for param in model.parameters():\n",
    "                param.requires_grad = False\n",
    "            model.fc.weight.requires_grad = True\n",
    "            model.fc.bias.requires_grad = True\n",
    "        return model\n",
    "\n",
    "# Unfreeze base layers for training\n",
    "def unfreeze_base(model):\n",
    "    m = model\n",
    "    for param in m.parameters():\n",
    "        param.requires_grad = True\n",
    "    return m\n",
    "\n",
    "def visualize_layer1_filter(model):\n",
    "\n",
    "    kernels = model.conv1.weight.detach().clone()\n",
    "    print(kernels.size())\n",
    "    kernels = kernels - kernels.min()\n",
    "    kernels = kernels / kernels.max()\n",
    "    filter_img = make_grid(kernels, nrow = 8)\n",
    "    plt.imshow(filter_img.cpu().permute(1, 2, 0))\n",
    "\n",
    "def plot_conf_matrix(y_true,y_pred):\n",
    "    cf_matrix = confusion_matrix(y_true, y_pred)\n",
    "    disp = ConfusionMatrixDisplay(confusion_matrix=cf_matrix)\n",
    "    plt.figure(figsize=[15,20])\n",
    "    disp.plot()\n",
    "    plt.xticks(rotation = 45)\n",
    "    plt.show()\n",
    "\n",
    "def predict(model,x,k):\n",
    "    \n",
    "    # x is of shape (batch_size,C,H,W)\n",
    "    # k: top k predicted result \n",
    "    \n",
    "    output = model(x)    # (batchsize, numclass) \n",
    "    predicted_1 = torch.topk(output,1,1).indices\n",
    "    predicted_k = torch.topk(output,k,1).indices\n",
    "    return predicted_1.to(device), predicted_k.to(device)\n",
    "\n",
    "def run_test(model, test_loader, k = 3):\n",
    "    \n",
    "    device = torch.device('cuda' if torch.cuda.is_available() else 'cpu')\n",
    "    \n",
    "    d = {} \n",
    "    correct = 0.0\n",
    "    correct_k = 0.0\n",
    "    total_size = 0\n",
    "    acc = 0.0\n",
    "    y_true = torch.Tensor().to(device)\n",
    "    y_pred = torch.Tensor().to(device)\n",
    "    test_samples = 0\n",
    "    \n",
    "    with torch.no_grad():\n",
    "        for i,data in enumerate(test_loader,0):\n",
    "             \n",
    "            X, y = data\n",
    "            pred, pred_k = predict(model, X, k)\n",
    "\n",
    "            correct += (pred == y).sum().item()\n",
    "\n",
    "            batch_size = X.size(0)\n",
    "            for j in range (batch_size):\n",
    "                if y[j,0] in pred_k[j]:\n",
    "                    correct_k += 1\n",
    "\n",
    "            y_true = torch.concat([y_true,y]).to(device)\n",
    "            y_pred = torch.concat([y_pred,pred]).to(device)\n",
    "\n",
    "            total_size += 1\n",
    "            test_samples += X.size(0)\n",
    "        \n",
    "        \n",
    "        d['acc'] = (correct/test_samples) * 100\n",
    "        d['topk_acc'] = (correct_k/test_samples)*100\n",
    "        \n",
    "        p,r,fscore,_ = precision_recall_fscore_support(torch.flatten(y_true.cpu()), torch.flatten(y_pred.cpu()), average = 'weighted')\n",
    "        d['p'], d['r'], d['fscore'] = p, r, fscore\n",
    "        d['y_true'] = torch.flatten(y_true.cpu())\n",
    "        d['y_pred'] = torch.flatten(y_pred.cpu())\n",
    "        \n",
    "    return d \n",
    "\n",
    "def merge_result(*argv):\n",
    "    d = defaultdict(list)\n",
    "    for arg in argv:\n",
    "        if isinstance(arg, dict):\n",
    "            for k in arg.keys(): \n",
    "                if isinstance(k, list):\n",
    "                    d[k] += arg[k]\n",
    "                else:\n",
    "                    d[k].append(arg[k])\n",
    "    \n",
    "    return d    \n",
    "\n",
    "def save_result(tbl, path):\n",
    "    f = open(path, 'w')\n",
    "    for k in tbl:\n",
    "        values = ' '.join([str(n) for n in tbl[k]])\n",
    "        f.write(values + \"\\n\")\n",
    "    f.close()    \n",
    "\n",
    "\n",
    "def get_model_metrics(path):\n",
    "    f = open(path, 'r')\n",
    "    losses, accs, topk_accs = f.readlines()\n",
    "    losses, accs, topk_accs = losses.strip().split(' '), accs.strip().split(' '), topk_accs.strip().split(' ')\n",
    "    losses, accs, topk_accs = list(map(float, losses)), list(map(float, accs)), list(map(float, topk_accs))\n",
    "    \n",
    "    return {'loss': losses, 'acc': accs, 'topk_acc': topk_accs} \n",
    "\n",
    "def find_corrupt_imgs(df, path, transform): \n",
    "    invalids = set()\n",
    "    for i, df in tqdm(df.iterrows()):\n",
    "        image = df['new_filename']\n",
    "        img_path = os.path.join(path,image)\n",
    "        img = cv2.imread(img_path)\n",
    "        try:\n",
    "            img = transform(img)\n",
    "        except TypeError:\n",
    "            invalids.add(image)\n",
    "            \n",
    "    return invalids\n",
    "\n",
    "def remove_corrupt_imgs(metadata_df, corrupt_list):\n",
    "    for img in corrupt_list:\n",
    "        metadata_df = metadata_df[metadata_df['new_filename'] != img]\n",
    "    return metadata_df\n",
    "\n",
    "class ImageProcessor(Dataset):\n",
    "\n",
    "    def __init__(self, path, metadata_df, mode = 'RGB', is_train = True, crop_width = 224, crop_height = 224, is_phone = False):\n",
    "        self.path = path\n",
    "        self.mode = mode\n",
    "        self.metadata_df = metadata_df\n",
    "        self.X,self.y = self.read_input(self.path)\n",
    "        self.is_train = is_train\n",
    "        self.crop_width = crop_width\n",
    "        self.crop_height = crop_height\n",
    "        self.transforms = None\n",
    "        if self.is_train:\n",
    "            self.transforms = T.Compose([ T.ToTensor(),T.Normalize(mean = [0,0,0], std = [1,1,1]), T.RandomCrop(224), T.RandomHorizontalFlip()])\n",
    "        else:\n",
    "            if is_phone: \n",
    "                # self.transforms = T.Compose([T.ToTensor(),T.Normalize(mean = [0,0,0], std = [1,1,1]), T.Resize((1456, 992)), T.CenterCrop(224)]) \n",
    "                # self.transforms = T.Compose([T.ToTensor(),T.Normalize(mean = [0,0,0], std = [1,1,1]), T.Resize((224, 224))])\n",
    "                self.transforms = T.Compose([T.ToTensor(),T.Normalize(mean = [0,0,0], std = [1,1,1]), T.Resize((512, 512)), T.CenterCrop(224)]) \n",
    "            else:\n",
    "                self.transforms = T.Compose([T.ToTensor(),T.Normalize(mean = [0,0,0], std = [1,1,1]), T.CenterCrop(224)])\n",
    "        \n",
    "\n",
    "    # A simple function to get the file paths of all the training images and their corresponding labels\n",
    "    def read_input(self,path):\n",
    "\n",
    "        if os.path.isfile(path):\n",
    "            _, filename = os.path.split(path)\n",
    "            label = self.metadata_df[self.metadata_df['new_filename'] == filename, 'artist_idx'].iloc[0]\n",
    "            return [path],[label]\n",
    "\n",
    "        elif os.path.isdir(path):\n",
    "            paths = []\n",
    "            labels = []\n",
    "            for i, df in self.metadata_df.iterrows():\n",
    "                image = df['new_filename']\n",
    "                img_path = os.path.join(path,image)\n",
    "                label = df['artist_idx']\n",
    "                paths.append(img_path)\n",
    "                labels.append(label)\n",
    "            return paths,labels\n",
    "\n",
    "    def __len__(self):\n",
    "        return len(self.X)\n",
    "\n",
    "    def __getitem__(self,idx):\n",
    "\n",
    "        # Fetch image path and label\n",
    "        path = self.X[idx]\n",
    "        label = self.y[idx]\n",
    "\n",
    "        img = cv2.imread(path)\n",
    "\n",
    "        # Convert to BGR if necessary\n",
    "        if self.mode == 'BGR':\n",
    "            img = cv2.cvtColor(img, cv2.COLOR_RGB2BGR)\n",
    "        \n",
    "        # Preprocess image\n",
    "        crop = self.transforms(img)\n",
    "        \n",
    "        return crop.to(device), torch.Tensor([int(label)]).to(device)\n",
    "\n",
    "def train(model,train_loader,epochs = 2, lr = 0.001, beta_1 = 0.9, beta_2 = 0.999, k = 3, freeze_base = False):\n",
    "    \n",
    "    loss_fn = nn.CrossEntropyLoss().to(device)\n",
    "    \n",
    "    if freeze_base == True:\n",
    "        optimizer = optim.Adam(filter(lambda p: p.requires_grad, model.parameters()), lr=lr, betas = (beta_1,beta_2))\n",
    "    else:\n",
    "        optimizer = optim.Adam(model.parameters(), lr = lr, betas = (beta_1,beta_2))\n",
    "    \n",
    "    epoch_losses = []\n",
    "    epoch_accuracies = []\n",
    "    epoch_topk_accs = []\n",
    "    \n",
    "    for e in range(epochs):  # loop over the dataset multiple times\n",
    "        \n",
    "        running_loss = 0.0\n",
    "        correct = 0.0\n",
    "        correct_k = 0.0\n",
    "        total_size = 0\n",
    "        acc = 0.0\n",
    "        \n",
    "        for i, data in enumerate(train_loader, 0):\n",
    "            # get the inputs; data is a list of [inputs, labels]\n",
    "            inputs, labels = data\n",
    "\n",
    "            # zero the parameter gradients\n",
    "            optimizer.zero_grad()\n",
    "\n",
    "            # forward + backward + optimize\n",
    "            outputs = model(inputs.float().to(device))\n",
    "            \n",
    "            loss = loss_fn(outputs, labels.squeeze().type(torch.LongTensor).to(device))\n",
    "            loss.backward()\n",
    "            optimizer.step()\n",
    "            \n",
    "            batch_size = inputs.size(0)\n",
    "                \n",
    "            predicted = torch.topk(outputs,1,1).indices\n",
    "            predicted_k = torch.topk(outputs,k,1).indices\n",
    "            correct += (predicted == labels).sum().item()\n",
    "            total_size += 1\n",
    "\n",
    "            for j in range (batch_size):\n",
    "                if labels[j,0] in predicted_k[j]:\n",
    "                    correct_k += 1\n",
    "\n",
    "            # print statistics\n",
    "            running_loss += loss.item()\n",
    "            print(f'[{e + 1}, {i * batch_size:5d}] batch_loss: {loss.item():.3f}')\n",
    "        \n",
    "        epoch_loss = (running_loss/total_size)\n",
    "        acc = (correct/len(train_dataset)) * 100\n",
    "        topk_acc = (correct_k/len(train_dataset))*100\n",
    "        \n",
    "        epoch_losses.append(epoch_loss)\n",
    "        epoch_accuracies.append(acc)\n",
    "        epoch_topk_accs.append(topk_acc)\n",
    "        print(f'[Epoch {e + 1}: epoch_loss: {epoch_loss:.3f} accuracy: {acc:.3f} top-3_accuracy: {topk_acc:.3f}]')\n",
    "\n",
    "    print('Finished Training')\n",
    "    \n",
    "    return {\"loss\": epoch_losses, \"acc\": epoch_accuracies, \"topk_acc\": epoch_topk_accs}"
   ]
  },
  {
   "cell_type": "markdown",
   "id": "521fd1a3-c780-4a93-a0b1-8877ae573cad",
   "metadata": {
    "tags": []
   },
   "source": [
    "## 2. Data Loading & Preprocessing"
   ]
  },
  {
   "cell_type": "code",
   "execution_count": 10,
   "id": "efe70026-6103-48ae-bba9-665f74be8d1a",
   "metadata": {},
   "outputs": [
    {
     "name": "stdout",
     "output_type": "stream",
     "text": [
      "13253\n",
      "3960\n"
     ]
    },
    {
     "data": {
      "text/plain": [
       "56"
      ]
     },
     "execution_count": 10,
     "metadata": {},
     "output_type": "execute_result"
    }
   ],
   "source": [
    "# Filter only artists with more than 300 paintings and balance them out\n",
    "\n",
    "artdf = pd.read_csv(os.path.join(METADATA_PATH, 'all_data_info.csv'))\n",
    "datadf = artdf.groupby(\"artist\").filter(lambda x: len(x) >= 300)\n",
    "g = datadf.groupby('artist')\n",
    "datadf = g.apply(lambda x: x.sample(g.size().min()).reset_index(drop=True))\n",
    "datadf = datadf.drop(columns=['date'])\n",
    "\n",
    "# |dataset| = 17214\n",
    "# Convert artist names into label indexes\n",
    "artist = datadf[['new_filename','artist','in_train']]\n",
    "artist['artist'] = artist['artist'].astype('category')\n",
    "artist['artist_idx'] = artist['artist'].cat.codes\n",
    "artist.head()\n",
    "\n",
    "# Split into train and test sets\n",
    "# train_df = artist[artist['in_train'] == True]\n",
    "# test_df = artist[artist['in_train'] == False]\n",
    "\n",
    "train_df = pd.read_csv(\"/home/jupyter/MOUNT_DIRECTORY/info/\" + \"train_df.csv\")\n",
    "test_df = pd.read_csv(\"/home/jupyter/MOUNT_DIRECTORY/info/\" + \"test_df.csv\")\n",
    "\n",
    "#Get df which contains information of phone images\n",
    "phone_img_lst = [t.split(\"/\")[-1] for t in glob.glob(ASUS_TEST_PATH + \"/*.jpg\")]\n",
    "phone_df = test_df[test_df['new_filename'].isin(phone_img_lst)]\n",
    "\n",
    "len(datadf)\n",
    "print(len(train_df))\n",
    "print(len(test_df))\n",
    "len(phone_df)"
   ]
  },
  {
   "cell_type": "code",
   "execution_count": null,
   "id": "97309f59-a000-466a-b758-daa382dc55d6",
   "metadata": {
    "tags": []
   },
   "outputs": [],
   "source": [
    "# Check for missing images\n",
    "# Run only once\n",
    "train_transform = T.Compose([ T.ToTensor(),T.Normalize(mean = [0,0,0], std = [1,1,1]), T.RandomCrop(224), T.RandomHorizontalFlip()])\n",
    "test_transform = T.Compose([T.ToTensor(),T.Normalize(mean = [0,0,0], std = [1,1,1]), T.CenterCrop(224)])\n",
    "phone_transform = T.Compose([T.ToTensor(),T.Normalize(mean = [0,0,0], std = [1,1,1]), T.Resize((512, 512)), T.CenterCrop(224)])\n",
    "\n",
    "train_corrupt_imgs =  find_corrupt_imgs(train_df, TRAIN_PATH, train_transform)\n",
    "test_corrupt_imgs =  find_corrupt_imgs(test_df, TEST_PATH, test_transform)\n",
    "\n",
    "print(f\"List of corrupted images in training dataset: {train_corrupt_imgs} \")\n",
    "print(f\"List of corrupted images in testing dataset: {test_corrupt_imgs} \")\n",
    "      \n",
    "# Delete corrupted images from dataset\n",
    "print(len(train_df))\n",
    "print(len(test_df))\n",
    "      \n",
    "train_df = remove_corrupt_imgs(train_df, train_corrupt_imgs)\n",
    "test_df = remove_corrupt_imgs(test_df, test_corrupt_imgs)\n",
    "      \n",
    "print({len(train_df)})\n",
    "print(len(test_df))"
   ]
  },
  {
   "cell_type": "code",
   "execution_count": 11,
   "id": "edec875f-46ef-44a1-bdcc-4088cb49e73c",
   "metadata": {},
   "outputs": [
    {
     "name": "stdout",
     "output_type": "stream",
     "text": [
      "13253 3960\n",
      "56 56\n"
     ]
    }
   ],
   "source": [
    "# Create train and test dataset processors\n",
    "train_dataset = ImageProcessor(TRAIN_PATH,train_df)\n",
    "test_dataset = ImageProcessor(TEST_PATH,test_df,is_train = False)\n",
    "asus_dataset = ImageProcessor(ASUS_TEST_PATH,phone_df,is_train = False, is_phone = True)\n",
    "oneplus_dataset = ImageProcessor(ONEPLUS_TEST_PATH,phone_df,is_train = False, is_phone = True)\n",
    "\n",
    "print(len(train_dataset), len(test_dataset))\n",
    "print(len(oneplus_dataset), len(asus_dataset))"
   ]
  },
  {
   "cell_type": "code",
   "execution_count": 12,
   "id": "167a37d7-6dbd-4583-8305-c5be27803db7",
   "metadata": {},
   "outputs": [],
   "source": [
    "# Create train and test Dataloaders\n",
    "BATCH_SIZE = 128\n",
    "train_loader = DataLoader(train_dataset,  batch_size = BATCH_SIZE, shuffle = True)\n",
    "test_loader = DataLoader(test_dataset,  batch_size = BATCH_SIZE, shuffle = True)\n",
    "asus_loader = DataLoader(asus_dataset,  batch_size = len(oneplus_dataset), shuffle = True)\n",
    "oneplus_loader = DataLoader(oneplus_dataset,  batch_size = len(oneplus_dataset), shuffle = True)"
   ]
  },
  {
   "cell_type": "code",
   "execution_count": null,
   "id": "23eff1e1-cd5c-4b2c-913b-c623e4f26c6f",
   "metadata": {
    "tags": []
   },
   "outputs": [],
   "source": [
    "for batch_idx, data in enumerate(train_loader):\n",
    "    fig = plt.figure(figsize = (14, 7))\n",
    "    imgs,labels = data\n",
    "    for i in range(8):\n",
    "        ax = fig.add_subplot(2, 4, i + 1, xticks = [], yticks = [])     \n",
    "        plt.imshow(imgs[i].cpu().permute(1, 2, 0))\n",
    "    break"
   ]
  },
  {
   "cell_type": "markdown",
   "id": "4da56be4-7ffe-4239-a537-91a0b303e63a",
   "metadata": {
    "tags": []
   },
   "source": [
    "## 3. Modeling "
   ]
  },
  {
   "cell_type": "markdown",
   "id": "c228a990-993f-4e51-9ef7-248f78f43c49",
   "metadata": {
    "jp-MarkdownHeadingCollapsed": true,
    "tags": []
   },
   "source": [
    "#### 3.1. Baseline CNN"
   ]
  },
  {
   "cell_type": "code",
   "execution_count": null,
   "id": "02746d2e-367b-431f-8e03-2479c43d0c20",
   "metadata": {
    "tags": []
   },
   "outputs": [],
   "source": [
    "# Load model\n",
    "baseline_cnn = BaselineConvnet()\n",
    "baseline_cnn = baseline_cnn.float()\n",
    "baseline_cnn = baseline_cnn.to(device)\n",
    "summary(baseline_cnn,(3,224,224))"
   ]
  },
  {
   "cell_type": "code",
   "execution_count": null,
   "id": "16458b79-c713-4b49-8143-04f1abe07da4",
   "metadata": {
    "tags": []
   },
   "outputs": [],
   "source": [
    "# Train Baseline CNN\n",
    "cnn_train_results = train(baseline_cnn,train_loader,epochs = 18)"
   ]
  },
  {
   "cell_type": "code",
   "execution_count": null,
   "id": "d459fc38-93f1-4965-8d5c-90419851b1e5",
   "metadata": {},
   "outputs": [],
   "source": [
    "# Save Baseline CNN model and metrics results\n",
    "torch.save(baseline_cnn.state_dict(), os.path.join(MODELS_PATH , 'baseCNN.pth'))\n",
    "save_result(cnn_train_results, os.path.join(OUTPUT_PATH, \"train_metrics_cnn.txt\"))"
   ]
  },
  {
   "cell_type": "markdown",
   "id": "2928003c-c1e9-46ca-9bd9-4cf1de0e66f5",
   "metadata": {
    "jp-MarkdownHeadingCollapsed": true,
    "tags": []
   },
   "source": [
    "#### 3.2. Resnet-18 Model"
   ]
  },
  {
   "cell_type": "code",
   "execution_count": null,
   "id": "793f6837-fab6-4965-a243-7b4293efd946",
   "metadata": {
    "tags": []
   },
   "outputs": [],
   "source": [
    "# Load and Train ResNet-18 from scratch\n",
    "resnet = loadPretrainedModels('resnet-18',57, False)\n",
    "resnet.to(device)\n",
    "resnet_train_result = train(resnet,train_loader,epochs = 18)"
   ]
  },
  {
   "cell_type": "code",
   "execution_count": null,
   "id": "1a96a922-c297-455f-aa1e-3a5f34741ebc",
   "metadata": {},
   "outputs": [],
   "source": [
    "#Save ResNet-18 model and  plot values for ResNet-18 model \n",
    "torch.save(resnet.state_dict(), os.path.join(MODELS_PATH, 'ResNet.pth'))\n",
    "save_result(cnn_train_results, os.path.join(OUTPUT_PATH, \"train_metrics_rn.txt\"))"
   ]
  },
  {
   "cell_type": "markdown",
   "id": "e6db70a9-e9c1-4b72-9460-4a7d5b0f9d80",
   "metadata": {
    "jp-MarkdownHeadingCollapsed": true,
    "tags": []
   },
   "source": [
    "#### 3.3. Pre-trained Resnet-18 "
   ]
  },
  {
   "cell_type": "code",
   "execution_count": null,
   "id": "f69a601b-54a9-439c-8799-482b8167b850",
   "metadata": {
    "tags": []
   },
   "outputs": [],
   "source": [
    "# ResNet-18 Pre-trained model \n",
    "resnet_pt = loadPretrainedModels('resnet-18',57, True, freeze_base = True)\n",
    "resnet_pt.to(device)\n",
    "resnet_train_result_1 = train(resnet_pt,train_loader,epochs = 5, freeze_base = True)"
   ]
  },
  {
   "cell_type": "code",
   "execution_count": null,
   "id": "4bb8cd0e-dbed-4ffb-ba78-eb7a1313b9eb",
   "metadata": {
    "tags": []
   },
   "outputs": [],
   "source": [
    "# Unfreeze and run for remaining epochs with reduced lr\n",
    "resnet_pt = unfreeze_base(resnet_pt)\n",
    "resnet_pt.to(device)\n",
    "resnet_train_result_2 = train(resnet_pt,train_loader,epochs = 13, lr = 0.0001)"
   ]
  },
  {
   "cell_type": "code",
   "execution_count": null,
   "id": "174a0e8a-128f-498f-9b81-bcefe0aa1ca2",
   "metadata": {},
   "outputs": [],
   "source": [
    "# Save Pre-trained Resnet-18 Model\n",
    "torch.save(resnet_pt.state_dict(), os.path.join(MODELS_PATH, 'ResNet_PT.pth'))\n",
    "save_result(merge(resnet_train_result_1, resnet_train_result_2), os.path.join(OUTPUT_PATH, \"train_metrics_rnpt.txt\"))"
   ]
  },
  {
   "cell_type": "markdown",
   "id": "34562018-b63c-4250-88c5-7cb095daf719",
   "metadata": {
    "jp-MarkdownHeadingCollapsed": true,
    "tags": []
   },
   "source": [
    "#### 3.4. Save Results & Plotting"
   ]
  },
  {
   "cell_type": "code",
   "execution_count": null,
   "id": "100cc785-0abf-4938-9e1e-bd76b1906645",
   "metadata": {
    "tags": []
   },
   "outputs": [],
   "source": [
    "# Read in plot values saved earlier\n",
    "cnn_metrics = get_model_metrics(os.path.join(OUTPUT_PATH, \"train_metrics_cnn.txt\"))\n",
    "rn_metrics = get_model_metrics(os.path.join(OUTPUT_PATH, \"train_metrics_rn.txt\"))\n",
    "rnpt_metrics = get_model_metrics(os.path.join(OUTPUT_PATH, \"train_metrics_rnpt.txt\"))"
   ]
  },
  {
   "cell_type": "code",
   "execution_count": null,
   "id": "3b212e01-74e1-47d3-9bd5-25da52074ab8",
   "metadata": {},
   "outputs": [],
   "source": [
    "# Plot Training Performance Curves\n",
    "fig, axs = plt.subplots(3,figsize = (10,16))\n",
    "model_names = ['Baseline CNN', 'Resnet-18', 'Resnet-18 Pretrained'] \n",
    "metrics = {'loss': 'Loss', 'acc': 'Accuracy', 'topk_acc': 'Top-3 Accuracy'}\n",
    "\n",
    "for i, tbl in enumerate([cnn_metrics, rn_metrics, rnpt_metrics]):\n",
    "    for j, (metric, metric_full_name) in enumerate(metrics.items()): \n",
    "        axs[j].plot(tbl[metric], label = model_names[i], linestyle = '-')\n",
    "        axs[j].set_title(f'Training {metric} vs epochs')\n",
    "        axs[j].set_xlabel('Epochs')\n",
    "        axs[j].set_ylabel({metric_full_name})\n",
    "        axs[j].set_xticks(range(18))\n",
    "        axs[j].legend()\n",
    "          \n",
    "plt.show()\n",
    "fig.savefig(os.path.join(PLOT_PATH ,'training_plots.pdf'))"
   ]
  },
  {
   "cell_type": "markdown",
   "id": "f9654460-ef22-4e9e-aa12-6617309be288",
   "metadata": {
    "tags": []
   },
   "source": [
    "## 4. Testing"
   ]
  },
  {
   "cell_type": "code",
   "execution_count": 13,
   "id": "f664e2f4-ce48-43ab-b85c-b6a29e18e37c",
   "metadata": {},
   "outputs": [
    {
     "data": {
      "text/plain": [
       "<All keys matched successfully>"
      ]
     },
     "execution_count": 13,
     "metadata": {},
     "output_type": "execute_result"
    }
   ],
   "source": [
    "# Load Model \n",
    "# Custom CNN\n",
    "cnn = BaselineConvnet()\n",
    "cnn = cnn.float()\n",
    "cnn = cnn.to(device)\n",
    "checkpoint = torch.load(os.path.join(MODELS_PATH, 'baseCNN.pth'))\n",
    "cnn.load_state_dict(checkpoint)\n",
    "\n",
    "# Resnet 18 \n",
    "rn = models.resnet18(pretrained = False)\n",
    "in_feat = rn.fc.in_features\n",
    "rn.fc = nn.Linear(in_feat,57)\n",
    "rn.to(device)\n",
    "checkpoint = torch.load(os.path.join(MODELS_PATH, 'ResNet.pth'))\n",
    "rn.load_state_dict(checkpoint)\n",
    "\n",
    "# Pretrained Resnet 18 \n",
    "\n",
    "pt_rn = models.resnet18(pretrained = True)\n",
    "in_feat = pt_rn.fc.in_features\n",
    "pt_rn.fc = nn.Linear(in_feat,57)\n",
    "pt_rn.to(device)\n",
    "checkpoint = torch.load(os.path.join(MODELS_PATH, 'ResNet_PT.pth'))\n",
    "pt_rn.load_state_dict(checkpoint)"
   ]
  },
  {
   "cell_type": "code",
   "execution_count": 21,
   "id": "66c4632a-6b0f-436b-ae78-59b28f2068c4",
   "metadata": {},
   "outputs": [
    {
     "name": "stdout",
     "output_type": "stream",
     "text": [
      "torch.Size([64, 3, 7, 7])\n"
     ]
    },
    {
     "data": {
      "image/png": "[encoded data removed]",
      "text/plain": [
       "<Figure size 432x288 with 1 Axes>"
      ]
     },
     "metadata": {
      "needs_background": "light"
     },
     "output_type": "display_data"
    }
   ],
   "source": [
    "visualize_layer1_filter(rn)\n",
    "plt.savefig(os.path.join(PLOT_PATH, 'cnn_filter_viz.png'))"
   ]
  },
  {
   "cell_type": "code",
   "execution_count": 449,
   "id": "c08c3e5c-f428-4db5-8c6a-7beb3edb2ba3",
   "metadata": {
    "tags": []
   },
   "outputs": [],
   "source": [
    "# Test Dataset\n",
    "test_cnn = run_test(cnn, test_loader)\n",
    "test_rn = run_test(rn, test_loader)\n",
    "test_rnpt = run_test(pt_rn, test_loader)"
   ]
  },
  {
   "cell_type": "code",
   "execution_count": 22,
   "id": "f6c5ddc9-6719-4601-94d7-37d545d1e9fa",
   "metadata": {},
   "outputs": [],
   "source": [
    "# Asus Dataset\n",
    "asus_cnn = run_test(cnn, asus_loader)\n",
    "asus_rn = run_test(rn, asus_loader)\n",
    "asus_rnpt = run_test(pt_rn, asus_loader)"
   ]
  },
  {
   "cell_type": "code",
   "execution_count": 23,
   "id": "e4a15ada-d3d3-48cd-b20f-4c2000ef0351",
   "metadata": {},
   "outputs": [
    {
     "name": "stdout",
     "output_type": "stream",
     "text": [
      "10.714285714285714 5.357142857142857 30.357142857142854\n",
      "19.642857142857142 21.428571428571427 50.0\n",
      "0.038690476190476185 0.03571428571428571 0.22619047619047614\n",
      "0.10714285714285714 0.05357142857142857 0.30357142857142855\n"
     ]
    }
   ],
   "source": [
    "print(asus_cnn['acc'], asus_rn['acc'],  asus_rnpt['acc'])\n",
    "print(asus_cnn['topk_acc'], asus_rn['topk_acc'],  asus_rnpt['topk_acc'])\n",
    "print(asus_cnn['p'], asus_rn['p'],  asus_rnpt['p'])\n",
    "print(asus_cnn['r'], asus_rn['r'],  asus_rnpt['r'])"
   ]
  },
  {
   "cell_type": "code",
   "execution_count": 24,
   "id": "09102390-150d-41a3-9203-967ad6e5fb13",
   "metadata": {},
   "outputs": [],
   "source": [
    "# Oneplus Dataset\n",
    "oneplus_cnn = run_test(cnn, oneplus_loader)\n",
    "oneplus_rn = run_test(rn, oneplus_loader)\n",
    "oneplus_rnpt = run_test(pt_rn, oneplus_loader)"
   ]
  },
  {
   "cell_type": "code",
   "execution_count": 25,
   "id": "27e841c7-78c9-4624-9bb5-dfccce2b2230",
   "metadata": {},
   "outputs": [
    {
     "name": "stdout",
     "output_type": "stream",
     "text": [
      "10.714285714285714 7.142857142857142 42.857142857142854\n",
      "26.785714285714285 30.357142857142854 58.92857142857143\n",
      "0.05208333333333333 0.05357142857142857 0.3273809523809524\n",
      "0.10714285714285714 0.07142857142857142 0.42857142857142855\n"
     ]
    }
   ],
   "source": [
    "print(oneplus_cnn['acc'], oneplus_rn['acc'],  oneplus_rnpt['acc'])\n",
    "print(oneplus_cnn['topk_acc'], oneplus_rn['topk_acc'],  oneplus_rnpt['topk_acc'])\n",
    "print(oneplus_cnn['p'], oneplus_rn['p'],  oneplus_rnpt['p'])\n",
    "print(oneplus_cnn['r'], oneplus_rn['r'],  oneplus_rnpt['r'])"
   ]
  },
  {
   "cell_type": "code",
   "execution_count": null,
   "id": "a47ca1fd-0939-470e-9974-b69c8e9b219b",
   "metadata": {},
   "outputs": [],
   "source": [
    "save_result(merge_result(test_cnn, test_rn, test_rnpt) , os.path.join(OUTPUT_PATH, \"test_metrics\")) "
   ]
  },
  {
   "cell_type": "code",
   "execution_count": null,
   "id": "db480ad3-bf44-48f0-a560-3d20d7ceba80",
   "metadata": {},
   "outputs": [],
   "source": [
    "save_result(merge_result(asus_cnn, asus_rn, asus_rnpt) , os.path.join(OUTPUT_PATH, \"test_metrics\")) "
   ]
  },
  {
   "cell_type": "code",
   "execution_count": null,
   "id": "2cc28809-e7c5-4971-a21a-20f4018fc18d",
   "metadata": {},
   "outputs": [],
   "source": [
    "save_result(merge_result(oneplus_cnn, oneplus_rn, oneplus_rnpt) , os.path.join(OUTPUT_PATH, \"test_metrics\")) "
   ]
  },
  {
   "cell_type": "code",
   "execution_count": null,
   "id": "3a26665d-1b2f-4953-a60c-978d23f78f4c",
   "metadata": {},
   "outputs": [],
   "source": []
  }
 ],
 "metadata": {
  "environment": {
   "kernel": "python3",
   "name": "tf2-gpu.2-8.m91",
   "type": "gcloud",
   "uri": "gcr.io/deeplearning-platform-release/tf2-gpu.2-8:m91"
  },
  "kernelspec": {
   "display_name": "Python 3",
   "language": "python",
   "name": "python3"
  },
  "language_info": {
   "codemirror_mode": {
    "name": "ipython",
    "version": 3
   },
   "file_extension": ".py",
   "mimetype": "text/x-python",
   "name": "python",
   "nbconvert_exporter": "python",
   "pygments_lexer": "ipython3",
   "version": "3.7.12"
  }
 },
 "nbformat": 4,
 "nbformat_minor": 5
}
